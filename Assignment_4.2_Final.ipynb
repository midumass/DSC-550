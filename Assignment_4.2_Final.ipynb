{
 "cells": [
  {
   "cell_type": "markdown",
   "metadata": {},
   "source": [
    "#Assignment 4.2\n",
    "#Zach Hill\n",
    "#DSC-550-T302\n",
    "#22DEC2019\n",
    "\n",
    "Sentiment analysis is important in many areas, particularly consumer reviews. From movie critiques to product comments, even instagram and twitter posts based on locations, a positive or negative connotation in a review can have profound impact on what others will ultimately purchase or try; we are a social animal after all. Amazon reviews are seen by millions of customers so analysis of which products are meeting successful sales goals might be influenced by these reviews."
   ]
  },
  {
   "cell_type": "code",
   "execution_count": 1,
   "metadata": {},
   "outputs": [],
   "source": [
    "import pandas as pd\n",
    "import json\n",
    "from nltk.corpus import stopwords\n",
    "import re\n",
    "import os\n",
    "import string\n",
    "import collections\n",
    "from sklearn.feature_extraction.text import TfidfVectorizer\n",
    "from sklearn.feature_extraction.text import CountVectorizer\n",
    "from sklearn.metrics.pairwise import cosine_similarity\n",
    "\n",
    "stop_words = stopwords.words('english')"
   ]
  },
  {
   "cell_type": "code",
   "execution_count": 2,
   "metadata": {},
   "outputs": [],
   "source": [
    "def readFile(inputfile):\n",
    "    data = []\n",
    "    \n",
    "    with open(inputfile, 'r') as datafile:\n",
    "        data = json.load(datafile)\n",
    "    \n",
    "    outdf = pd.DataFrame(data)\n",
    "    \n",
    "    return outdf"
   ]
  },
  {
   "cell_type": "code",
   "execution_count": 3,
   "metadata": {},
   "outputs": [],
   "source": [
    "def cleanText(df):\n",
    "    punc = string.punctuation.replace('<', '').replace('>', '')\n",
    "    pat = re.compile(f'[{punc}]')\n",
    "    \n",
    "    df = df.apply(lambda x: x.astype(str).str.lower())\n",
    "    df = df.replace(pat, '')\n",
    "    df = df.replace(r'\\\\n',' ', regex=True)\n",
    "    df = df.replace(r'\\\\',' ', regex=True)\n",
    "    \n",
    "    return df"
   ]
  },
  {
   "cell_type": "code",
   "execution_count": 4,
   "metadata": {},
   "outputs": [],
   "source": [
    "def createWordSet(df, col):\n",
    "    results = set()\n",
    "    df[col].str.split().apply(results.update)\n",
    "    \n",
    "    return results"
   ]
  },
  {
   "cell_type": "code",
   "execution_count": 5,
   "metadata": {},
   "outputs": [],
   "source": [
    "files = ['asus.json', 'dell.json', 'surface.json']\n",
    "\n",
    "asus_clean = cleanText(readFile(files[0]))\n",
    "dell_clean = cleanText(readFile(files[1]))\n",
    "surface_clean = cleanText(readFile(files[2]))"
   ]
  },
  {
   "cell_type": "code",
   "execution_count": 6,
   "metadata": {},
   "outputs": [],
   "source": [
    "asus_txt = pd.DataFrame()\n",
    "dell_txt = pd.DataFrame()\n",
    "surface_txt = pd.DataFrame()\n",
    "\n",
    "asus_txt['text'] = asus_clean['Review Title'].apply(lambda x:' '.join([word for word in x.split() if word not in (stop_words)]))\n",
    "dell_txt['text'] = dell_clean['Review Title'].apply(lambda x:' '.join([word for word in x.split() if word not in (stop_words)]))\n",
    "surface_txt['text'] = surface_clean['Review Title'].apply(lambda x:' '.join([word for word in x.split() if word not in (stop_words)]))\n",
    "\n",
    "txt0 = asus_txt['text'].str.cat(sep=' ')\n",
    "txt1 = dell_txt['text'].str.cat(sep=' ')\n",
    "txt2 = surface_txt['text'].str.cat(sep=' ')"
   ]
  },
  {
   "cell_type": "code",
   "execution_count": 7,
   "metadata": {},
   "outputs": [],
   "source": [
    "d0_words = {}\n",
    "d1_words = {}\n",
    "d2_words = {}\n",
    "\n",
    "col = 'text'\n",
    "\n",
    "d0_words = createWordSet(asus_txt, col)\n",
    "d1_words = createWordSet(dell_txt, col)\n",
    "d2_words = createWordSet(surface_txt, col)"
   ]
  },
  {
   "cell_type": "code",
   "execution_count": 8,
   "metadata": {},
   "outputs": [],
   "source": [
    "def jaccard_distance(d1_words, d2_words):\n",
    "    d1_unique = set(d1_words)\n",
    "    d2_unique = set(d2_words)\n",
    "    num_both = len(d1_unique.intersection(d2_unique))\n",
    "    num_total = len(d1_unique.union(d2_unique))\n",
    "    return num_both/num_total"
   ]
  },
  {
   "cell_type": "code",
   "execution_count": 9,
   "metadata": {},
   "outputs": [
    {
     "name": "stdout",
     "output_type": "stream",
     "text": [
      "             asus      dell   surface\n",
      "asus     1.000000  0.108647  0.200920\n",
      "dell     0.108647  1.000000  0.099558\n",
      "surface  0.200920  0.099558  1.000000\n"
     ]
    }
   ],
   "source": [
    "words = ['asus','dell','surface']\n",
    "\n",
    "lst_jd = {words[0]:[jaccard_distance(d0_words, d0_words),\n",
    "                  jaccard_distance(d0_words, d1_words),\n",
    "                  jaccard_distance(d0_words, d2_words)],\n",
    "          words[1]:[jaccard_distance(d1_words, d0_words),\n",
    "                  jaccard_distance(d1_words, d1_words),\n",
    "                  jaccard_distance(d1_words, d2_words)],\n",
    "          words[2]:[jaccard_distance(d2_words, d0_words),\n",
    "                  jaccard_distance(d2_words, d1_words),\n",
    "                  jaccard_distance(d2_words, d2_words)]}\n",
    "  \n",
    "# Create DataFrame \n",
    "df_jd = pd.DataFrame(lst_jd)\n",
    "\n",
    "df_jd.set_index([words], inplace = True)\n",
    "\n",
    "print(df_jd)"
   ]
  },
  {
   "cell_type": "code",
   "execution_count": 10,
   "metadata": {},
   "outputs": [],
   "source": [
    "def get_vectors(*strs):\n",
    "    text = [t for t in strs]\n",
    "    vectorizer = TfidfVectorizer(text)\n",
    "    vectorizer.fit(text)\n",
    "    return vectorizer.transform(text).toarray()"
   ]
  },
  {
   "cell_type": "code",
   "execution_count": 11,
   "metadata": {},
   "outputs": [],
   "source": [
    "def get_cosine_sim(*strs):\n",
    "    vectors = [t for t in get_vectors(*strs)]\n",
    "    return cosine_similarity(vectors)"
   ]
  },
  {
   "cell_type": "code",
   "execution_count": 12,
   "metadata": {},
   "outputs": [
    {
     "data": {
      "text/plain": [
       "array([[1.        , 0.42413415, 0.50365911],\n",
       "       [0.42413415, 1.        , 0.37903314],\n",
       "       [0.50365911, 0.37903314, 1.        ]])"
      ]
     },
     "execution_count": 12,
     "metadata": {},
     "output_type": "execute_result"
    }
   ],
   "source": [
    "cosim = get_cosine_sim(txt0, txt1, txt2)\n",
    "cosim"
   ]
  },
  {
   "cell_type": "code",
   "execution_count": 13,
   "metadata": {},
   "outputs": [
    {
     "name": "stdout",
     "output_type": "stream",
     "text": [
      "             asus      dell   surface\n",
      "asus     1.000000  0.424134  0.503659\n",
      "dell     0.424134  1.000000  0.379033\n",
      "surface  0.503659  0.379033  1.000000\n"
     ]
    }
   ],
   "source": [
    "df_cosim = pd.DataFrame({'asus':cosim[:,0],\n",
    "                         'dell':cosim[:,1],\n",
    "                         'surface':cosim[:,2]})\n",
    "df_cosim.set_index([words], inplace = True)\n",
    "\n",
    "print(df_cosim)"
   ]
  },
  {
   "cell_type": "code",
   "execution_count": null,
   "metadata": {},
   "outputs": [],
   "source": []
  }
 ],
 "metadata": {
  "kernelspec": {
   "display_name": "Python 3",
   "language": "python",
   "name": "python3"
  },
  "language_info": {
   "codemirror_mode": {
    "name": "ipython",
    "version": 3
   },
   "file_extension": ".py",
   "mimetype": "text/x-python",
   "name": "python",
   "nbconvert_exporter": "python",
   "pygments_lexer": "ipython3",
   "version": "3.7.3"
  }
 },
 "nbformat": 4,
 "nbformat_minor": 2
}
